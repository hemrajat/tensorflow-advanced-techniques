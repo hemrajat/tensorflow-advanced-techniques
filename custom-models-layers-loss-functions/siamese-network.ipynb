{
 "cells": [
  {
   "cell_type": "code",
   "execution_count": 45,
   "id": "96e59e48",
   "metadata": {},
   "outputs": [],
   "source": [
    "import tensorflow as tf\n",
    "from tensorflow.keras.models import Model\n",
    "from tensorflow.keras.layers import Flatten,Input,Dense,Dropout,Lambda\n",
    "from tensorflow.keras.optimizers import RMSprop\n",
    "from tensorflow.keras.datasets import fashion_mnist\n",
    "from tensorflow.python.keras.utils.vis_utils import plot_model\n",
    "from keras import backend as K\n",
    "import numpy as np\n",
    "import matplotlib.pyplot as plt\n",
    "from PIL import Image, ImageFont,ImageDraw\n",
    "import random"
   ]
  },
  {
   "cell_type": "code",
   "execution_count": 27,
   "id": "8d778661",
   "metadata": {},
   "outputs": [],
   "source": [
    "def create_pair(x,digit_indices):\n",
    "    '''\n",
    "    Positive and negative pair creation.\n",
    "    Alternates between positive and negative pairs.\n",
    "    '''\n",
    "    pairs = []\n",
    "    labels = []\n",
    "    n = min(len(digit_indices[d]) for d in range(10)) -1\n",
    "    for d in range(10):\n",
    "        for i in range(n):\n",
    "            z1,z2 = digit_indices[d][i],digit_indices[d][i+1]\n",
    "            pairs += [[x[z1],x[z2]]]\n",
    "            inc = random.randrange(1,10)\n",
    "            dn = (d + inc) % 10\n",
    "            z1,z2 = digit_indices[d][i],digit_indices[dn][i]\n",
    "            pairs += [[x[z1],x[z2]]]\n",
    "            labels += [1,0]\n",
    "    return np.array(pairs),np.array(labels)\n",
    "def create_pairs_on_set(images,labels):\n",
    "    digit_indices = [np.where(labels==i)[0] for i in range(10)]\n",
    "    pairs,y=create_pair(images,digit_indices)\n",
    "    y = y.astype('float32')\n",
    "    return pairs,y"
   ]
  },
  {
   "cell_type": "code",
   "execution_count": 28,
   "id": "68a4e9b2",
   "metadata": {},
   "outputs": [],
   "source": [
    "(train_images,train_labels),(test_images,test_labels) = fashion_mnist.load_data()"
   ]
  },
  {
   "cell_type": "code",
   "execution_count": 29,
   "id": "cc8b2396",
   "metadata": {},
   "outputs": [],
   "source": [
    "train_images = train_images.astype('float32')/255\n",
    "test_images = test_images.astype('float32')/255\n",
    "tr_pairs,tr_y=create_pairs_on_set(train_images,train_labels)\n",
    "ts_pairs,ts_y=create_pairs_on_set(test_images,test_labels)"
   ]
  },
  {
   "cell_type": "code",
   "execution_count": 32,
   "id": "075e85d6",
   "metadata": {},
   "outputs": [
    {
     "data": {
      "image/png": "[encoded data removed]",
      "text/plain": [
       "<Figure size 432x288 with 2 Axes>"
      ]
     },
     "metadata": {
      "needs_background": "light"
     },
     "output_type": "display_data"
    },
    {
     "data": {
      "image/png": "[encoded data removed]",
      "text/plain": [
       "<Figure size 432x288 with 2 Axes>"
      ]
     },
     "metadata": {
      "needs_background": "light"
     },
     "output_type": "display_data"
    },
    {
     "name": "stdout",
     "output_type": "stream",
     "text": [
      "1.0\n"
     ]
    }
   ],
   "source": [
    "def show_image(image):\n",
    "    plt.figure()\n",
    "    plt.imshow(image)\n",
    "    plt.colorbar()\n",
    "    plt.grid(False)\n",
    "    plt.show()\n",
    "this_pair = 4\n",
    "show_image(tr_pairs[this_pair][0])\n",
    "show_image(tr_pairs[this_pair][1])\n",
    "print(tr_y[this_pair])"
   ]
  },
  {
   "cell_type": "code",
   "execution_count": 35,
   "id": "fd8cc78e",
   "metadata": {},
   "outputs": [],
   "source": [
    "def initialize_base_network():\n",
    "    input = Input(shape=(28,28,),name='base_input')\n",
    "    x = Flatten(name='flatten_input')(input)\n",
    "    x = Dense(128,activation='relu',name='first_base_dense')(x)\n",
    "    x = Dropout(0.1,name='first_dropout')(x)\n",
    "    x = Dense(128,activation='relu',name='second_base_dense')(x)\n",
    "    x = Dropout(0.1,name='second_dropout')(x)\n",
    "    x = Dense(128,activation='relu',name='third_base_dense')(x)\n",
    "    return Model(inputs=input,outputs=x)\n",
    "def euclidean_distance(vects):\n",
    "    x,y=vects\n",
    "    sum_square = K.sum(K.square(x-y),axis=1,keepdims=True)\n",
    "    return K.sqrt(K.maximum(sum_square,K.epsilon()))\n",
    "def eucl_dist_output_shape(shapes):\n",
    "    shape1,shape2 = shapes\n",
    "    return (shape1[0],1)"
   ]
  },
  {
   "cell_type": "code",
   "execution_count": 46,
   "id": "e31f350d",
   "metadata": {},
   "outputs": [
    {
     "name": "stdout",
     "output_type": "stream",
     "text": [
      "('You must install pydot (`pip install pydot`) and install graphviz (see instructions at https://graphviz.gitlab.io/download/) ', 'for plot_model/model_to_dot to work.')\n"
     ]
    }
   ],
   "source": [
    "base_network = initialize_base_network()\n",
    "plot_model(base_network,show_shapes=True,show_layer_names=True)"
   ]
  },
  {
   "cell_type": "code",
   "execution_count": 42,
   "id": "c40d1ede",
   "metadata": {},
   "outputs": [],
   "source": [
    "input_a = Input(shape=(28,28,),name='left_input')\n",
    "vect_output_a = base_network(input_a)\n",
    "input_b = Input(shape=(28,28,),name='right_input')\n",
    "vect_output_b = base_network(input_b)\n",
    "output = Lambda(euclidean_distance,name='output_layer',output_shape=eucl_dist_output_shape)([vect_output_a,vect_output_b])\n",
    "model = Model(inputs=[input_a,input_b],outputs=output)"
   ]
  },
  {
   "cell_type": "code",
   "execution_count": 43,
   "id": "9562d726",
   "metadata": {},
   "outputs": [
    {
     "name": "stdout",
     "output_type": "stream",
     "text": [
      "Model: \"model_5\"\n",
      "__________________________________________________________________________________________________\n",
      " Layer (type)                   Output Shape         Param #     Connected to                     \n",
      "==================================================================================================\n",
      " left_input (InputLayer)        [(None, 28, 28)]     0           []                               \n",
      "                                                                                                  \n",
      " right_input (InputLayer)       [(None, 28, 28)]     0           []                               \n",
      "                                                                                                  \n",
      " model_4 (Functional)           (None, 128)          133504      ['left_input[0][0]',             \n",
      "                                                                  'right_input[0][0]']            \n",
      "                                                                                                  \n",
      " output_layer (Lambda)          (None, 1)            0           ['model_4[0][0]',                \n",
      "                                                                  'model_4[1][0]']                \n",
      "                                                                                                  \n",
      "==================================================================================================\n",
      "Total params: 133,504\n",
      "Trainable params: 133,504\n",
      "Non-trainable params: 0\n",
      "__________________________________________________________________________________________________\n"
     ]
    }
   ],
   "source": [
    "model.summary()"
   ]
  },
  {
   "cell_type": "code",
   "execution_count": 50,
   "id": "c1bbca76",
   "metadata": {},
   "outputs": [],
   "source": [
    "def constrastive_loss_with_margin(margin):\n",
    "    def contrastive_loss(y_true,y_pred):\n",
    "        square_pred = K.square(y_pred)\n",
    "        margin_square = K.square(K.maximum(margin-y_pred,0))\n",
    "        return K.mean(y_true*square_pred + (1-y_true) *margin_square)\n",
    "    return contrastive_loss"
   ]
  },
  {
   "cell_type": "code",
   "execution_count": 57,
   "id": "f703ae6a",
   "metadata": {
    "scrolled": true
   },
   "outputs": [
    {
     "name": "stdout",
     "output_type": "stream",
     "text": [
      "Epoch 1/20\n"
     ]
    },
    {
     "name": "stderr",
     "output_type": "stream",
     "text": [
      "2022-02-08 17:12:25.803558: I tensorflow/core/grappler/optimizers/custom_graph_optimizer_registry.cc:112] Plugin optimizer for device_type GPU is enabled.\n"
     ]
    },
    {
     "name": "stdout",
     "output_type": "stream",
     "text": [
      "938/938 [==============================] - ETA: 0s - loss: 0.0671"
     ]
    },
    {
     "name": "stderr",
     "output_type": "stream",
     "text": [
      "2022-02-08 17:12:37.709593: I tensorflow/core/grappler/optimizers/custom_graph_optimizer_registry.cc:112] Plugin optimizer for device_type GPU is enabled.\n"
     ]
    },
    {
     "name": "stdout",
     "output_type": "stream",
     "text": [
      "938/938 [==============================] - 13s 13ms/step - loss: 0.0671 - val_loss: 0.0702\n",
      "Epoch 2/20\n",
      "938/938 [==============================] - 12s 13ms/step - loss: 0.0639 - val_loss: 0.0664\n",
      "Epoch 3/20\n",
      "938/938 [==============================] - 12s 13ms/step - loss: 0.0614 - val_loss: 0.0647\n",
      "Epoch 4/20\n",
      "938/938 [==============================] - 12s 13ms/step - loss: 0.0598 - val_loss: 0.0670\n",
      "Epoch 5/20\n",
      "938/938 [==============================] - 12s 13ms/step - loss: 0.0583 - val_loss: 0.0661\n",
      "Epoch 6/20\n",
      "938/938 [==============================] - 12s 13ms/step - loss: 0.0574 - val_loss: 0.0633\n",
      "Epoch 7/20\n",
      "938/938 [==============================] - 12s 13ms/step - loss: 0.0559 - val_loss: 0.0649\n",
      "Epoch 8/20\n",
      "938/938 [==============================] - 12s 13ms/step - loss: 0.0551 - val_loss: 0.0645\n",
      "Epoch 9/20\n",
      "938/938 [==============================] - 12s 13ms/step - loss: 0.0542 - val_loss: 0.0642\n",
      "Epoch 10/20\n",
      "938/938 [==============================] - 12s 13ms/step - loss: 0.0534 - val_loss: 0.0645\n",
      "Epoch 11/20\n",
      "938/938 [==============================] - 12s 13ms/step - loss: 0.0530 - val_loss: 0.0642\n",
      "Epoch 12/20\n",
      "938/938 [==============================] - 12s 13ms/step - loss: 0.0521 - val_loss: 0.0632\n",
      "Epoch 13/20\n",
      "938/938 [==============================] - 12s 12ms/step - loss: 0.0515 - val_loss: 0.0624\n",
      "Epoch 14/20\n",
      "938/938 [==============================] - 12s 13ms/step - loss: 0.0512 - val_loss: 0.0640\n",
      "Epoch 15/20\n",
      "938/938 [==============================] - 12s 12ms/step - loss: 0.0505 - val_loss: 0.0627\n",
      "Epoch 16/20\n",
      "938/938 [==============================] - 12s 13ms/step - loss: 0.0498 - val_loss: 0.0616\n",
      "Epoch 17/20\n",
      "938/938 [==============================] - 12s 13ms/step - loss: 0.0497 - val_loss: 0.0613\n",
      "Epoch 18/20\n",
      "938/938 [==============================] - 12s 13ms/step - loss: 0.0491 - val_loss: 0.0648\n",
      "Epoch 19/20\n",
      "938/938 [==============================] - 12s 13ms/step - loss: 0.0486 - val_loss: 0.0624\n",
      "Epoch 20/20\n",
      "938/938 [==============================] - 12s 13ms/step - loss: 0.0481 - val_loss: 0.0597\n",
      "625/625 [==============================] - 3s 4ms/step - loss: 0.0597\n"
     ]
    }
   ],
   "source": [
    "rms = RMSprop()\n",
    "model.compile(loss=constrastive_loss_with_margin(margin=1),optimizer=rms)\n",
    "history = model.fit([tr_pairs[:,0],tr_pairs[:,1]],tr_y,epochs=20,batch_size=128,validation_data=([ts_pairs[:,0],ts_pairs[:,1]],ts_y))\n",
    "loss = model.evaluate(x=[ts_pairs[:,0],ts_pairs[:,1]],y=ts_y)"
   ]
  },
  {
   "cell_type": "code",
   "execution_count": 58,
   "id": "e26f6fb0",
   "metadata": {},
   "outputs": [],
   "source": [
    "def accuracy(y_true,y_pred):\n",
    "    pred = y_pred.ravel()>0.5\n",
    "    return np.mean(pred==y_true)"
   ]
  },
  {
   "cell_type": "code",
   "execution_count": 59,
   "id": "c25d9e10",
   "metadata": {},
   "outputs": [
    {
     "name": "stderr",
     "output_type": "stream",
     "text": [
      "2022-02-08 17:19:28.643799: I tensorflow/core/grappler/optimizers/custom_graph_optimizer_registry.cc:112] Plugin optimizer for device_type GPU is enabled.\n"
     ]
    },
    {
     "name": "stdout",
     "output_type": "stream",
     "text": [
      "Loss = 0.05970846489071846, Train accuracy = 0.05430071678613102, Test accuracy = 0.07982982982982983\n"
     ]
    }
   ],
   "source": [
    "y_pred_train = model.predict([tr_pairs[:,0],tr_pairs[:,1]])\n",
    "train_accuracy = accuracy(tr_y,y_pred_train)\n",
    "y_pred_test = model.predict([ts_pairs[:,0],ts_pairs[:,1]])\n",
    "test_accuracy = accuracy(ts_y,y_pred_test)\n",
    "print('Loss = {}, Train accuracy = {}, Test accuracy = {}'.format(loss,train_accuracy,test_accuracy))"
   ]
  },
  {
   "cell_type": "code",
   "execution_count": null,
   "id": "41a7a3bd",
   "metadata": {},
   "outputs": [],
   "source": []
  }
 ],
 "metadata": {
  "kernelspec": {
   "display_name": "Python 3 (ipykernel)",
   "language": "python",
   "name": "python3"
  },
  "language_info": {
   "codemirror_mode": {
    "name": "ipython",
    "version": 3
   },
   "file_extension": ".py",
   "mimetype": "text/x-python",
   "name": "python",
   "nbconvert_exporter": "python",
   "pygments_lexer": "ipython3",
   "version": "3.8.12"
  }
 },
 "nbformat": 4,
 "nbformat_minor": 5
}
